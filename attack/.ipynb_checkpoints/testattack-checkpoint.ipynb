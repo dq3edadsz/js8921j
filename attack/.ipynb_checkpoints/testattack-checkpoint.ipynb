{
 "cells": [
  {
   "cell_type": "code",
   "execution_count": 8,
   "id": "9ae266c9-feda-4066-929b-157825c45af6",
   "metadata": {},
   "outputs": [
    {
     "name": "stdout",
     "output_type": "stream",
     "text": [
      "/home/beeno/Dropbox/research_project/pycharm/incremental_vault_gpu\n"
     ]
    },
    {
     "name": "stderr",
     "output_type": "stream",
     "text": [
      "usage: ipykernel_launcher.py [-h] [--nottrain] [--predecoys]\n",
      "                             [--model_eval MODEL_EVAL] [--victim VICTIM]\n",
      "                             [--softfilter] [--sspmdata SSPMDATA]\n",
      "                             [--pretrained] [--withleak] [--physical]\n",
      "                             [--logical]\n",
      "ipykernel_launcher.py: error: unrecognized arguments: -f /home/beeno/.local/share/jupyter/runtime/kernel-3727f65d-1bc6-4689-8531-c9cdbdf8b8eb.json\n"
     ]
    },
    {
     "ename": "SystemExit",
     "evalue": "2",
     "output_type": "error",
     "traceback": [
      "An exception has occurred, use %tb to see the full traceback.\n",
      "\u001b[0;31mSystemExit\u001b[0m\u001b[0;31m:\u001b[0m 2\n"
     ]
    }
   ],
   "source": [
    "%cd /home/beeno/Dropbox/research_project/pycharm/incremental_vault_gpu\n",
    "from Vault.vault import *\n",
    "from multiprocessing import Process, Manager\n",
    "from time import time, sleep\n",
    "from MSPM.mspm_config import *\n",
    "import json\n",
    "from attack.weight import Weight\n",
    "import random\n",
    "from attack.metric import Measure\n",
    "from Crypto.Hash import SHA512"
   ]
  },
  {
   "cell_type": "code",
   "execution_count": 2,
   "id": "181a26af-3341-4839-a7e5-a5383e046f25",
   "metadata": {},
   "outputs": [],
   "source": [
    "from MSPM.incre_pw_coding import Incremental_Encoder"
   ]
  },
  {
   "cell_type": "code",
   "execution_count": 3,
   "id": "3c51ea3c-7b5f-46ec-91a0-2e41d624fbc6",
   "metadata": {},
   "outputs": [
    {
     "name": "stderr",
     "output_type": "stream",
     "text": [
      "[2022-10-12 15:15:40,435.435]     configure.py Line  29 __init__():\t Constructor started for '4-gram'\n",
      "[2022-10-12 15:15:40,438.438] ngram_creator.py Line  30 __init__():\t Constructor started for 'NGramCreator, Session: Development, Length: 6, Progress bar: True'\n",
      "[2022-10-12 15:15:40,438.438] ngram_creator.py Line  39 __init__():\t Used alphabet:  !\"#$%&'()*+,-./0123456789:;<=>?@ABCDEFGHIJKLMNOPQRSTUVWXYZ[\\]^_`abcdefghijklmnopqrstuvwxyz{|}~\n",
      "[2022-10-12 15:15:40,438.438] ngram_creator.py Line  41 __init__():\t Model string length: 3\n",
      "[2022-10-12 15:15:40,439.439] ngram_creator.py Line  48 __init__():\t NGram size: 4\n",
      "[2022-10-12 15:15:41,211.211] ngram_creator.py Line  63 __init__():\t len(IP) theo: 857375\n",
      "[2022-10-12 15:15:41,211.211] ngram_creator.py Line  64 __init__():\t len(CP) theo: 81450625 => 857375 * 95\n",
      "[2022-10-12 15:15:41,211.211] ngram_creator.py Line  67 __init__():\t len(EP) theo: 857375\n",
      "[2022-10-12 15:15:41,885.885] ngram_creator.py Line 317 load():\t Done! Everything loaded from disk.\n",
      "[2022-10-12 15:15:41,885.885] ngram_creator.py Line 318 load():\t Loading the data from disk took: 0:00:00.673645\n",
      "[2022-10-12 15:16:27,527.527] ngram_creator.py Line 317 load():\t Done! Everything loaded from disk.\n",
      "[2022-10-12 15:16:27,527.527] ngram_creator.py Line 318 load():\t Loading the data from disk took: 0:00:45.642235\n",
      "[2022-10-12 15:16:28,207.207] ngram_creator.py Line 317 load():\t Done! Everything loaded from disk.\n"
     ]
    },
    {
     "name": "stdout",
     "output_type": "stream",
     "text": [
      "single password model loading done ...\n",
      "single similar password model loading done ...\n"
     ]
    },
    {
     "name": "stderr",
     "output_type": "stream",
     "text": [
      "[2022-10-12 15:16:28,207.207] ngram_creator.py Line 318 load():\t Loading the data from disk took: 0:00:00.679839\n"
     ]
    }
   ],
   "source": [
    "incre_ecoder = Incremental_Encoder()"
   ]
  },
  {
   "cell_type": "code",
   "execution_count": 1,
   "id": "404192c6-4e87-4742-81aa-9fbdc87804bb",
   "metadata": {},
   "outputs": [
    {
     "ename": "NameError",
     "evalue": "name 'incre_ecoder' is not defined",
     "output_type": "error",
     "traceback": [
      "\u001b[0;31m---------------------------------------------------------------------------\u001b[0m",
      "\u001b[0;31mNameError\u001b[0m                                 Traceback (most recent call last)",
      "Cell \u001b[0;32mIn [1], line 1\u001b[0m\n\u001b[0;32m----> 1\u001b[0m incre_ecoder\u001b[38;5;241m.\u001b[39mlength_dic\n",
      "\u001b[0;31mNameError\u001b[0m: name 'incre_ecoder' is not defined"
     ]
    }
   ],
   "source": [
    "incre_ecoder.length_dic"
   ]
  },
  {
   "cell_type": "code",
   "execution_count": 4,
   "id": "3206d1ca-c79f-46a7-9dc5-1dda078ed036",
   "metadata": {},
   "outputs": [],
   "source": [
    "%load_ext autoreload\n",
    "%autoreload 2"
   ]
  },
  {
   "cell_type": "code",
   "execution_count": 4,
   "id": "b2e1d526-2f40-46d8-9a49-08b4a7c3d0aa",
   "metadata": {},
   "outputs": [
    {
     "name": "stdout",
     "output_type": "stream",
     "text": [
      "loading test file: fold_5.json\n"
     ]
    }
   ],
   "source": [
    "weight = Weight()"
   ]
  },
  {
   "cell_type": "code",
   "execution_count": 35,
   "id": "e085105c-fc13-4ee1-99f3-f2dfccbf8f62",
   "metadata": {},
   "outputs": [
    {
     "data": {
      "text/plain": [
       "{'lcsstr/levenshtein': 0.03571428571428571,\n",
       " 'levenshtein/lcsstr': 0.03571428571428571}"
      ]
     },
     "execution_count": 35,
     "metadata": {},
     "output_type": "execute_result"
    }
   ],
   "source": [
    "weight.p_real"
   ]
  },
  {
   "cell_type": "code",
   "execution_count": 40,
   "id": "3f20df54-95ad-42c4-b593-0a705c8ea19f",
   "metadata": {},
   "outputs": [
    {
     "data": {
      "text/plain": [
       "{'lcsstr/overlap': 0.03571428571428571, 'overlap/lcsstr': 0.07142857142857142}"
      ]
     },
     "execution_count": 40,
     "metadata": {},
     "output_type": "execute_result"
    }
   ],
   "source": [
    "weight.p_real"
   ]
  },
  {
   "cell_type": "code",
   "execution_count": 67,
   "id": "66b48873-694f-40e8-bd66-3a39ae1bd885",
   "metadata": {},
   "outputs": [
    {
     "data": {
      "text/plain": [
       "{'lcsstr/lcs': 0.07142857142857142, 'lcs/lcsstr': 0.017857142857142856}"
      ]
     },
     "execution_count": 67,
     "metadata": {},
     "output_type": "execute_result"
    }
   ],
   "source": [
    "weight.p_real"
   ]
  },
  {
   "cell_type": "code",
   "execution_count": 61,
   "id": "a75a54f5-def6-435e-bbb0-bfe49b7194e0",
   "metadata": {},
   "outputs": [
    {
     "data": {
      "text/plain": [
       "{'lcsstr/manhattan': 0.03571428571428571,\n",
       " 'manhattan/lcsstr': 0.07142857142857142}"
      ]
     },
     "execution_count": 61,
     "metadata": {},
     "output_type": "execute_result"
    }
   ],
   "source": [
    "weight.p_real"
   ]
  },
  {
   "cell_type": "code",
   "execution_count": 1,
   "id": "e59e0549-057e-4054-88ad-48e5356827dc",
   "metadata": {},
   "outputs": [
    {
     "ename": "NameError",
     "evalue": "name 'incre_ecoder' is not defined",
     "output_type": "error",
     "traceback": [
      "\u001b[0;31m---------------------------------------------------------------------------\u001b[0m",
      "\u001b[0;31mNameError\u001b[0m                                 Traceback (most recent call last)",
      "Cell \u001b[0;32mIn [1], line 1\u001b[0m\n\u001b[0;32m----> 1\u001b[0m \u001b[38;5;28mprint\u001b[39m(\u001b[38;5;124m'\u001b[39m\u001b[38;5;124mip max:\u001b[39m\u001b[38;5;124m'\u001b[39m, incre_ecoder\u001b[38;5;241m.\u001b[39mspm\u001b[38;5;241m.\u001b[39mip_list[\u001b[38;5;241m-\u001b[39m\u001b[38;5;241m1\u001b[39m])\n\u001b[1;32m      2\u001b[0m \u001b[38;5;28mprint\u001b[39m(\u001b[38;5;124m'\u001b[39m\u001b[38;5;124mcp max:\u001b[39m\u001b[38;5;124m'\u001b[39m, np\u001b[38;5;241m.\u001b[39marray(incre_ecoder\u001b[38;5;241m.\u001b[39mspm\u001b[38;5;241m.\u001b[39mcp_list)\u001b[38;5;241m.\u001b[39mmax())\n",
      "\u001b[0;31mNameError\u001b[0m: name 'incre_ecoder' is not defined"
     ]
    }
   ],
   "source": [
    "print('ip max:', incre_ecoder.spm.ip_list[-1])\n",
    "print('cp max:', np.array(incre_ecoder.spm.cp_list).max())"
   ]
  },
  {
   "cell_type": "code",
   "execution_count": 12,
   "id": "b5b68a30-430f-4f83-b12e-72af9075331c",
   "metadata": {},
   "outputs": [
    {
     "data": {
      "text/plain": [
       "b'\\x1d~\\x80\\x825\\\\D\\xeb'"
      ]
     },
     "execution_count": 12,
     "metadata": {},
     "output_type": "execute_result"
    }
   ],
   "source": [
    "salt = 0x12345678.to_bytes(8, 'little')\n",
    "def set_crypto(mpw):\n",
    "    # salt = hash(pin).to_bytes(8, 'little')\n",
    "    key = PBKDF1(mpw, salt, 32, 100, hashAlgo=SHA512)\n",
    "    ctr = Counter.new(128, initial_value=int(254))\n",
    "    aes = AES.new(key, AES.MODE_CTR, counter=ctr)\n",
    "    return aes\n",
    "aes = set_crypto('dsaeq')\n",
    "aes.encrypt(struct.pack('{}L'.format(1), 0xFFFFFFFFFF))"
   ]
  },
  {
   "cell_type": "code",
   "execution_count": 11,
   "id": "e0dd3fcd-e8a6-4b4b-8137-6b28a54b0ad3",
   "metadata": {},
   "outputs": [
    {
     "name": "stdout",
     "output_type": "stream",
     "text": [
      "b'\\xff\\x00\\x00\\x00'\n",
      "b'1I1099511627775'\n"
     ]
    }
   ],
   "source": [
    "print(struct.pack('{}L'.format(1), 0xFF))\n",
    "print(bytes(('{}I'.format(1) + str(0xFFFFFFFFFF)).encode(\"ascii\")))"
   ]
  },
  {
   "cell_type": "code",
   "execution_count": 9,
   "id": "15aaf467-24b7-4025-8918-fa18e32df8e4",
   "metadata": {},
   "outputs": [
    {
     "name": "stdout",
     "output_type": "stream",
     "text": [
      "using 1/1\n",
      "using 2/2\n",
      "using 3/3\n",
      "using 3/4\n",
      "using 1/5\n",
      "using 5/6\n",
      "using 4/7\n",
      "using 8/8\n",
      "using 9/9\n",
      "using 3/10\n",
      "using 9/11\n",
      "using 6/12\n",
      "using 6/13\n",
      "['brece', 'espider112', 'ARIST', 'jhony2', '061207455', 'brece11', 'nuard1611', '06120745lex', 'brece', 'nimi2k8c', 'espider1', 'ARIST', 'ARIST']\n"
     ]
    }
   ],
   "source": [
    "ciphers, l = incre_ecoder.encode_encrypt(weight.pastebin['49'], '124523')\n",
    "pws = incre_ecoder.decrypt_decode(ciphers, '124523321', l)\n",
    "print(pws)"
   ]
  },
  {
   "cell_type": "code",
   "execution_count": 8,
   "id": "5e00f0b9-273a-4f2d-83a9-3d1ca931277c",
   "metadata": {},
   "outputs": [
    {
     "data": {
      "text/plain": [
       "['members4',\n",
       " 'members4',\n",
       " 'members4',\n",
       " 'members4',\n",
       " 'stensaas96',\n",
       " 'members',\n",
       " 'members4',\n",
       " 'members4',\n",
       " 'members4',\n",
       " 'members4',\n",
       " 'members4',\n",
       " 'stensaas96',\n",
       " 'stensaas96']"
      ]
     },
     "execution_count": 8,
     "metadata": {},
     "output_type": "execute_result"
    }
   ],
   "source": [
    "weight.pastebin['49']"
   ]
  },
  {
   "cell_type": "code",
   "execution_count": 10,
   "id": "2a60106d-821b-4fc1-bc32-2b7b272a4d39",
   "metadata": {},
   "outputs": [
    {
     "data": {
      "text/plain": [
       "0.11508718696968755"
      ]
     },
     "execution_count": 10,
     "metadata": {},
     "output_type": "execute_result"
    }
   ],
   "source": [
    "weight.singlepass(weight.pastebin['49'], incre_ecoder.spm)"
   ]
  },
  {
   "cell_type": "code",
   "execution_count": 11,
   "id": "47a577cd-ca3a-4a46-84ee-3a77bae1bf9f",
   "metadata": {},
   "outputs": [
    {
     "data": {
      "text/plain": [
       "1.9237721664186547e-06"
      ]
     },
     "execution_count": 11,
     "metadata": {},
     "output_type": "execute_result"
    }
   ],
   "source": [
    "weight.singlepass(pws, incre_ecoder.spm)"
   ]
  },
  {
   "cell_type": "code",
   "execution_count": 16,
   "id": "877e460e-4f8d-4f7b-9793-718c428a8728",
   "metadata": {},
   "outputs": [
    {
     "data": {
      "text/plain": [
       "{'lcsstr/lcs': 0.07142857142857142, 'lcs/lcsstr': 0.017857142857142856}"
      ]
     },
     "execution_count": 16,
     "metadata": {},
     "output_type": "execute_result"
    }
   ],
   "source": [
    "weight.p_real"
   ]
  },
  {
   "cell_type": "code",
   "execution_count": 12,
   "id": "a9af8d74-d764-47cc-b5e7-740768bd8aba",
   "metadata": {},
   "outputs": [
    {
     "name": "stdout",
     "output_type": "stream",
     "text": [
      "using 1/1\n",
      "using 2/2\n",
      "using 3/3\n",
      "using 2/4\n",
      "using 1/5\n",
      "using 2/6\n",
      "using 3/7\n",
      "using 8/8\n",
      "using 4/9\n",
      "using 10/10\n",
      "using 8/11\n",
      "using 6/12\n",
      "using 13/13\n",
      "['ancos', '2315175', 'butteria', 'butteria', '23151', 'coneyyanroston', '23151', 'smill', '2315175', '2315175', 'butteria', 'ricos', 'butteria']\n",
      "=> p_decoy: {'lcsstr/lcs': 0.41, 'lcs/lcsstr': 0.0}\n"
     ]
    },
    {
     "data": {
      "text/plain": [
       "31110004.977600798"
      ]
     },
     "execution_count": 12,
     "metadata": {},
     "output_type": "execute_result"
    }
   ],
   "source": [
    "weight.passsimi(weight.pastebin['49'], incre_ecoder)"
   ]
  },
  {
   "cell_type": "code",
   "execution_count": 13,
   "id": "fd530e96-7c26-4109-9484-68931b630a43",
   "metadata": {},
   "outputs": [
    {
     "name": "stdout",
     "output_type": "stream",
     "text": [
      "using 1/1\n",
      "using 1/2\n",
      "using 1/3\n",
      "using 1/4\n",
      "using 1/5\n",
      "using 2/6\n",
      "using 1/7\n",
      "using 6/8\n",
      "using 2/9\n",
      "using 1/10\n",
      "using 3/11\n",
      "using 4/12\n",
      "using 13/13\n",
      "['POOTYHER', 'POOTYHE5', '24099462411', 'ev0309', 'POOTYHE5', 'GOOTYHE5', 'POOTYHER', 'taylover1', 'clarolv891270754', 'clarolv891270754', 'POOTYHER', 'GOOTYHE5', 'POOTYHE5']\n",
      "=> p_decoy: {'lcsstr/lcs': 0.36, 'lcs/lcsstr': 0.01}\n"
     ]
    },
    {
     "data": {
      "text/plain": [
       "0.35430839002267567"
      ]
     },
     "execution_count": 13,
     "metadata": {},
     "output_type": "execute_result"
    }
   ],
   "source": [
    "weight.passsimi(pws, incre_ecoder)"
   ]
  },
  {
   "cell_type": "markdown",
   "id": "56f40ce8-4699-47e4-ad98-f651f707ca3b",
   "metadata": {
    "tags": []
   },
   "source": [
    "# add emprical password length table for vivid encoding"
   ]
  },
  {
   "cell_type": "code",
   "execution_count": 24,
   "id": "fb8e91b2-4988-44b9-a3e0-4be3ec309e49",
   "metadata": {},
   "outputs": [],
   "source": [
    "import bz2\n",
    "import gzip"
   ]
  },
  {
   "cell_type": "code",
   "execution_count": 2,
   "id": "9ac73a5d-463f-4922-8ea8-9add6776f78b",
   "metadata": {},
   "outputs": [
    {
     "name": "stdout",
     "output_type": "stream",
     "text": [
      "{6: 8484137, 5: 1325868, 9: 3935191, 8: 6500030, 7: 6277574, 10: 2940548, 11: 1150093, 4: 70490, 13: 422618, 12: 677049, 16: 126131, 17: 38604, 15: 176213, 3: 6722, 14: 275642, 2: 1043, 18: 24073, 26: 2194, 20: 13039, 1: 148, 22: 5979, 19: 15420, 21: 7242, 28: 995, 30: 712, 40: 57, 39: 66, 35: 106, 23: 4663, 38: 57, 34: 162, 24: 3654, 32: 359, 37: 71, 59: 11, 25: 2723, 27: 1432, 44: 29, 36: 100, 29: 710, 31: 414, 33: 167, 53: 13, 42: 48, 77: 3, 47: 24, 45: 29, 165: 3, 43: 36, 50: 20, 101: 7, 41: 38, 48: 22, 71: 45, 61: 12, 58: 10, 57: 9, 52: 11, 63: 10, 60: 7, 56: 8, 87: 5, 55: 20, 69: 15, 79: 4, 67: 5, 49: 14, 75: 10, 88: 3, 95: 1, 74: 11, 100: 1, 70: 8, 54: 14, 97: 1, 92: 2, 73: 4, 62: 6, 46: 15, 98: 2, 80: 4, 188: 1, 51: 14, 255: 9, 84: 5, 230: 1, 228: 1, 72: 3, 81: 2, 90: 2, 76: 5, 68: 4, 82: 3, 103: 1, 189: 1, 115: 1, 66: 4, 153: 1, 142: 2, 138: 1, 162: 1, 117: 2, 124: 1, 96: 4, 91: 3, 102: 2, 83: 3, 85: 2, 210: 1, 150: 2, 65: 2, 126: 1, 78: 2, 218: 1, 132: 1, 111: 2, 64: 6, 200: 1, 192: 1, 99: 1, 94: 3, 108: 3, 146: 3, 131: 1, 113: 1, 129: 1, 125: 1, 133: 1, 198: 1, 109: 1, 239: 1}\n"
     ]
    }
   ],
   "source": [
    "#bz2.open(filename, mode='rb', compresslevel=9, encoding=None, errors=None, newline=None)\n",
    "with open(ROCKY_PATH, encoding='latin-1') as f:\n",
    "    length_dict = {}\n",
    "    for line in f:\n",
    "        contents = line.strip().split() # in the format of 'count password'\n",
    "        if len(contents) != 2:\n",
    "            continue\n",
    "        if not_in_alphabet(contents[1]):\n",
    "            continue\n",
    "        if len(contents[1]) in length_dict:\n",
    "            length_dict[len(contents[1])] += int(contents[0])\n",
    "        else:\n",
    "            length_dict[len(contents[1])] = int(contents[0])\n",
    "    print(length_dict)\n",
    "    cPickle.dump(length_dict, open(SOURCE_PATH + \"/MSPM/SPM/trained/lengthstatistic\", \"wb\"))"
   ]
  },
  {
   "cell_type": "code",
   "execution_count": 39,
   "id": "ec7134a3-f050-4924-9ef9-c2164d5689e5",
   "metadata": {},
   "outputs": [
    {
     "ename": "ValueError",
     "evalue": "Argument 'encoding' not supported in binary mode",
     "output_type": "error",
     "traceback": [
      "\u001b[0;31m---------------------------------------------------------------------------\u001b[0m",
      "\u001b[0;31mValueError\u001b[0m                                Traceback (most recent call last)",
      "Cell \u001b[0;32mIn [39], line 2\u001b[0m\n\u001b[1;32m      1\u001b[0m \u001b[38;5;66;03m#bz2.open(filename, mode='rb', compresslevel=9, encoding=None, errors=None, newline=None)\u001b[39;00m\n\u001b[0;32m----> 2\u001b[0m \u001b[38;5;28;01mwith\u001b[39;00m bz2\u001b[38;5;241m.\u001b[39mopen(\u001b[38;5;124m'\u001b[39m\u001b[38;5;124mdata/rockyou-withcount.txt.bz2\u001b[39m\u001b[38;5;124m'\u001b[39m, encoding\u001b[38;5;241m=\u001b[39m\u001b[38;5;124m'\u001b[39m\u001b[38;5;124mutf-8\u001b[39m\u001b[38;5;124m'\u001b[39m) \u001b[38;5;28;01mas\u001b[39;00m f:\n\u001b[1;32m      3\u001b[0m     length_dict \u001b[38;5;241m=\u001b[39m {}\n\u001b[1;32m      4\u001b[0m     \u001b[38;5;28;01mfor\u001b[39;00m line \u001b[38;5;129;01min\u001b[39;00m f:\n",
      "File \u001b[0;32m~/anaconda3/envs/heexpand/lib/python3.8/bz2.py:315\u001b[0m, in \u001b[0;36mopen\u001b[0;34m(filename, mode, compresslevel, encoding, errors, newline)\u001b[0m\n\u001b[1;32m    313\u001b[0m \u001b[38;5;28;01melse\u001b[39;00m:\n\u001b[1;32m    314\u001b[0m     \u001b[38;5;28;01mif\u001b[39;00m encoding \u001b[38;5;129;01mis\u001b[39;00m \u001b[38;5;129;01mnot\u001b[39;00m \u001b[38;5;28;01mNone\u001b[39;00m:\n\u001b[0;32m--> 315\u001b[0m         \u001b[38;5;28;01mraise\u001b[39;00m \u001b[38;5;167;01mValueError\u001b[39;00m(\u001b[38;5;124m\"\u001b[39m\u001b[38;5;124mArgument \u001b[39m\u001b[38;5;124m'\u001b[39m\u001b[38;5;124mencoding\u001b[39m\u001b[38;5;124m'\u001b[39m\u001b[38;5;124m not supported in binary mode\u001b[39m\u001b[38;5;124m\"\u001b[39m)\n\u001b[1;32m    316\u001b[0m     \u001b[38;5;28;01mif\u001b[39;00m errors \u001b[38;5;129;01mis\u001b[39;00m \u001b[38;5;129;01mnot\u001b[39;00m \u001b[38;5;28;01mNone\u001b[39;00m:\n\u001b[1;32m    317\u001b[0m         \u001b[38;5;28;01mraise\u001b[39;00m \u001b[38;5;167;01mValueError\u001b[39;00m(\u001b[38;5;124m\"\u001b[39m\u001b[38;5;124mArgument \u001b[39m\u001b[38;5;124m'\u001b[39m\u001b[38;5;124merrors\u001b[39m\u001b[38;5;124m'\u001b[39m\u001b[38;5;124m not supported in binary mode\u001b[39m\u001b[38;5;124m\"\u001b[39m)\n",
      "\u001b[0;31mValueError\u001b[0m: Argument 'encoding' not supported in binary mode"
     ]
    }
   ],
   "source": [
    "#bz2.open(filename, mode='rb', compresslevel=9, encoding=None, errors=None, newline=None)\n",
    "with open('/MSPM/SPM/trained/lengthstatistic') as f:\n",
    "    length_dict = {}\n",
    "    for line in f:\n",
    "        contents = line.strip().split() # in the format of 'count password'\n",
    "        print(contents[0].decode(\"utf-8\"))\n",
    "        break"
   ]
  },
  {
   "cell_type": "code",
   "execution_count": 26,
   "id": "e6ef1338-deb3-47df-b290-f2820af9c9b4",
   "metadata": {},
   "outputs": [
    {
     "name": "stdout",
     "output_type": "stream",
     "text": [
      "14344394\n"
     ]
    }
   ],
   "source": [
    "cnt = 0\n",
    "with gzip.open(SOURCE_PATH + '/data/rockyou.txt.gz') as f:\n",
    "    for line in f:\n",
    "        cnt += 1\n",
    "print(cnt)"
   ]
  },
  {
   "cell_type": "code",
   "execution_count": 19,
   "id": "199ba00a-a334-4041-be8a-c5802e1042cc",
   "metadata": {},
   "outputs": [
    {
     "data": {
      "text/plain": [
       "{6: 8484899,\n",
       " 7: 14764490,\n",
       " 8: 21266162,\n",
       " 9: 25203043,\n",
       " 10: 28145227,\n",
       " 11: 29296917,\n",
       " 12: 29974947,\n",
       " 13: 30398189,\n",
       " 14: 30674528,\n",
       " 15: 30851189,\n",
       " 16: 30977814,\n",
       " 17: 31016707,\n",
       " 18: 31041418,\n",
       " 19: 31057110,\n",
       " 20: 31070405,\n",
       " 21: 31078158,\n",
       " 22: 31084319,\n",
       " 23: 31089143,\n",
       " 24: 31093348,\n",
       " 25: 31096252,\n",
       " 26: 31098586,\n",
       " 27: 31100388,\n",
       " 28: 31101574,\n",
       " 29: 31102335}"
      ]
     },
     "execution_count": 19,
     "metadata": {},
     "output_type": "execute_result"
    }
   ],
   "source": [
    "dic = cPickle.load(open(SOURCE_PATH + \"/MSPM/SPM/trained/lengthstatistic\", \"rb\"))\n",
    "dic_ = {}\n",
    "for length in range(6, MAX_PW_LENGTH):\n",
    "    if length == 6:\n",
    "        dic_[length] = dic[length]\n",
    "    else:\n",
    "        dic_[length] = dic_[length-1] + dic[length]\n",
    "dic_"
   ]
  },
  {
   "cell_type": "markdown",
   "id": "e6329b3c-7186-480d-ae11-929662dc685f",
   "metadata": {},
   "source": [
    "# test attack!"
   ]
  },
  {
   "cell_type": "code",
   "execution_count": 25,
   "id": "926872d7-2d45-4d60-af8f-519d2e42fc65",
   "metadata": {},
   "outputs": [],
   "source": [
    "from attack.attacker import Attacker"
   ]
  },
  {
   "cell_type": "code",
   "execution_count": 26,
   "id": "59ba36f0-9b3e-48d0-b6af-264b572bcf62",
   "metadata": {},
   "outputs": [
    {
     "name": "stderr",
     "output_type": "stream",
     "text": [
      "[2022-10-05 17:07:59,631.631]     configure.py Line  29 __init__():\t Constructor started for '4-gram'\n",
      "[2022-10-05 17:07:59,632.632] ngram_creator.py Line  30 __init__():\t Constructor started for 'NGramCreator, Session: Development, Length: 6, Progress bar: True'\n",
      "[2022-10-05 17:07:59,632.632] ngram_creator.py Line  39 __init__():\t Used alphabet:  !\"#$%&'()*+,-./0123456789:;<=>?@ABCDEFGHIJKLMNOPQRSTUVWXYZ[\\]^_`abcdefghijklmnopqrstuvwxyz{|}~\n",
      "[2022-10-05 17:07:59,632.632] ngram_creator.py Line  41 __init__():\t Model string length: 1\n",
      "[2022-10-05 17:07:59,632.632] ngram_creator.py Line  46 __init__():\t NGram size: 4\n",
      "[2022-10-05 17:07:59,634.634] ngram_creator.py Line  58 __init__():\t len(IP) theo: 857375\n",
      "[2022-10-05 17:07:59,634.634] ngram_creator.py Line  59 __init__():\t len(CP) theo: 81450625 => 857375 * 95\n",
      "[2022-10-05 17:07:59,634.634] ngram_creator.py Line  62 __init__():\t len(EP) theo: 857375\n",
      "[2022-10-05 17:08:00,263.263] ngram_creator.py Line 308 load():\t Done! Everything loaded from disk.\n",
      "[2022-10-05 17:08:00,263.263] ngram_creator.py Line 309 load():\t Loading the data from disk took: 0:00:00.629090\n",
      "[2022-10-05 17:08:40,938.938] ngram_creator.py Line 308 load():\t Done! Everything loaded from disk.\n"
     ]
    },
    {
     "name": "stdout",
     "output_type": "stream",
     "text": [
      "single password model loading done ...\n",
      "single similar password model loading done ...\n",
      "loading test file: fold_5.json\n"
     ]
    },
    {
     "name": "stderr",
     "output_type": "stream",
     "text": [
      "[2022-10-05 17:08:40,938.938] ngram_creator.py Line 309 load():\t Loading the data from disk took: 0:00:40.674139\n",
      "[2022-10-05 17:08:41,540.540] ngram_creator.py Line 308 load():\t Done! Everything loaded from disk.\n",
      "[2022-10-05 17:08:41,540.540] ngram_creator.py Line 309 load():\t Loading the data from disk took: 0:00:00.602552\n"
     ]
    },
    {
     "name": "stdout",
     "output_type": "stream",
     "text": [
      "loading test file: fold_5.json\n"
     ]
    }
   ],
   "source": [
    "atk = Attacker()"
   ]
  },
  {
   "cell_type": "code",
   "execution_count": 34,
   "id": "eb5a837c-abc5-4878-9f6a-cf7a8518774b",
   "metadata": {},
   "outputs": [
    {
     "name": "stdout",
     "output_type": "stream",
     "text": [
      "14344391\n"
     ]
    },
    {
     "ename": "IndexError",
     "evalue": "list index out of range",
     "output_type": "error",
     "traceback": [
      "\u001b[0;31m---------------------------------------------------------------------------\u001b[0m",
      "\u001b[0;31mIndexError\u001b[0m                                Traceback (most recent call last)",
      "Cell \u001b[0;32mIn [34], line 7\u001b[0m\n\u001b[1;32m      5\u001b[0m     lines \u001b[38;5;241m=\u001b[39m f\u001b[38;5;241m.\u001b[39mreadlines()\n\u001b[1;32m      6\u001b[0m     \u001b[38;5;28mprint\u001b[39m(\u001b[38;5;28mlen\u001b[39m(lines))\n\u001b[0;32m----> 7\u001b[0m contents \u001b[38;5;241m=\u001b[39m lines[random\u001b[38;5;241m.\u001b[39mrandint(\u001b[38;5;241m1\u001b[39m, \u001b[38;5;28mint\u001b[39m(\u001b[38;5;241m3e7\u001b[39m))]\u001b[38;5;241m.\u001b[39mstrip()\u001b[38;5;241m.\u001b[39msplit()\n",
      "\u001b[0;31mIndexError\u001b[0m: list index out of range"
     ]
    }
   ],
   "source": [
    "from linecache import getline\n",
    "import random\n",
    "\n",
    "with open(ROCKY_PATH, encoding='latin1') as f:\n",
    "    lines = f.readlines()\n",
    "    print(len(lines))\n",
    "contents = lines[random.randint(1, int(3e7))].strip().split()"
   ]
  },
  {
   "cell_type": "code",
   "execution_count": 35,
   "id": "bdee53fe-8ce8-4f2e-9542-3dff6e1ef9d7",
   "metadata": {},
   "outputs": [],
   "source": [
    "def mpws(n, avoid_list=None):\n",
    "    mpws = []\n",
    "    with open(ROCKY_PATH, encoding='latin1') as f:\n",
    "        lines = f.readlines()\n",
    "    leng = len(lines)\n",
    "    while True:\n",
    "        contents = lines[random.randint(1, leng)].strip().split()\n",
    "        if len(contents) != 2:\n",
    "            continue\n",
    "        if avoid_list is not None and contents[1] in avoid_list:\n",
    "            continue\n",
    "        if contents[1] in mpws:\n",
    "            continue\n",
    "        mpws.append(contents[1])\n",
    "        if len(mpws) == n:\n",
    "            return mpws"
   ]
  },
  {
   "cell_type": "code",
   "execution_count": 38,
   "id": "075aa7f2-66fa-46c4-a147-2fff8955739f",
   "metadata": {},
   "outputs": [
    {
     "data": {
      "text/plain": [
       "1000"
      ]
     },
     "execution_count": 38,
     "metadata": {},
     "output_type": "execute_result"
    }
   ],
   "source": [
    "len(mpws(1000))"
   ]
  },
  {
   "cell_type": "code",
   "execution_count": 16,
   "id": "9a410486-d0d1-4219-8419-2fe4d1c0c961",
   "metadata": {},
   "outputs": [
    {
     "name": "stdout",
     "output_type": "stream",
     "text": [
      "Total Lines 14344391\n"
     ]
    }
   ],
   "source": [
    "with open(ROCKY_PATH, encoding='latin1') as f:\n",
    "    length_dict = {}\n",
    "    for count, line in enumerate(f):\n",
    "        pass\n",
    "print('Total Lines', count + 1)"
   ]
  },
  {
   "cell_type": "code",
   "execution_count": 28,
   "id": "d5dca030-c8e9-44cb-b23c-012eb95aaab7",
   "metadata": {},
   "outputs": [
    {
     "data": {
      "text/plain": [
       "32510886"
      ]
     },
     "execution_count": 28,
     "metadata": {},
     "output_type": "execute_result"
    }
   ],
   "source": [
    "dic = cPickle.load(open(SOURCE_PATH + \"/MSPM/SPM/trained/lengthstatistic\", \"rb\"))\n",
    "total = 0\n",
    "for length in dic:\n",
    "    total += dic[length]\n",
    "total"
   ]
  },
  {
   "cell_type": "code",
   "execution_count": 40,
   "id": "64a2df55-c534-4d53-be79-c4a201a0014f",
   "metadata": {},
   "outputs": [],
   "source": [
    "with open(ROCKY_PATH_TRAIN, encoding='latin-1') as f:\n",
    "    lines = f.readlines()\n",
    "    random.shuffle(lines)\n",
    "    chosen = lines[:REAL_PW_NUM]"
   ]
  },
  {
   "cell_type": "code",
   "execution_count": 47,
   "id": "cab4c9f1-d430-4c9b-8eb3-979f4342dd5b",
   "metadata": {},
   "outputs": [
    {
     "data": {
      "text/plain": [
       "(2, 3)"
      ]
     },
     "execution_count": 47,
     "metadata": {},
     "output_type": "execute_result"
    }
   ],
   "source": [
    "results_avault_aiter = [{'pw':23, 'we':2}, {'pw':22, 'we':2}, {'pw':2, 'we':2}]\n",
    "prior_array = []\n",
    "for result in results_avault_aiter:\n",
    "    prior_array.append([result[tp] for tp in result])\n",
    "prior_array = np.array(prior_array) # attack_cls x N_EXP_VAULTS\n",
    "prior_array.T.shape"
   ]
  },
  {
   "cell_type": "code",
   "execution_count": 48,
   "id": "b5e93b3d-6d48-4cab-8b72-77b954d5ec14",
   "metadata": {},
   "outputs": [
    {
     "name": "stderr",
     "output_type": "stream",
     "text": [
      "[INFO/SyncManager-1] child process calling self.run()\n",
      "[INFO/SyncManager-1] created temp directory /tmp/pymp-cf_163n2\n",
      "[INFO/SyncManager-1] manager serving at '/tmp/pymp-cf_163n2/listener-bc5n455y'\n",
      "[INFO/Process-2] child process calling self.run()\n"
     ]
    },
    {
     "name": "stdout",
     "output_type": "stream",
     "text": [
      "0\n"
     ]
    },
    {
     "name": "stderr",
     "output_type": "stream",
     "text": [
      "[INFO/Process-3] child process calling self.run()\n"
     ]
    },
    {
     "name": "stdout",
     "output_type": "stream",
     "text": [
      "1\n"
     ]
    },
    {
     "name": "stderr",
     "output_type": "stream",
     "text": [
      "[INFO/Process-5] child process calling self.run()\n",
      "[INFO/Process-4] child process calling self.run()\n"
     ]
    },
    {
     "name": "stdout",
     "output_type": "stream",
     "text": [
      "23\n",
      "\n"
     ]
    },
    {
     "name": "stderr",
     "output_type": "stream",
     "text": [
      "[INFO/Process-6] child process calling self.run()\n",
      "[INFO/Process-7] child process calling self.run()\n"
     ]
    },
    {
     "name": "stdout",
     "output_type": "stream",
     "text": [
      "45\n",
      "\n"
     ]
    },
    {
     "name": "stderr",
     "output_type": "stream",
     "text": [
      "[INFO/Process-8] child process calling self.run()\n"
     ]
    },
    {
     "name": "stdout",
     "output_type": "stream",
     "text": [
      "6\n"
     ]
    },
    {
     "name": "stderr",
     "output_type": "stream",
     "text": [
      "[INFO/Process-9] child process calling self.run()\n"
     ]
    },
    {
     "name": "stdout",
     "output_type": "stream",
     "text": [
      "7\n"
     ]
    },
    {
     "name": "stderr",
     "output_type": "stream",
     "text": [
      "[INFO/Process-10] child process calling self.run()\n"
     ]
    },
    {
     "name": "stdout",
     "output_type": "stream",
     "text": [
      "8\n"
     ]
    },
    {
     "name": "stderr",
     "output_type": "stream",
     "text": [
      "[INFO/Process-11] child process calling self.run()\n"
     ]
    },
    {
     "name": "stdout",
     "output_type": "stream",
     "text": [
      "9\n"
     ]
    },
    {
     "name": "stderr",
     "output_type": "stream",
     "text": [
      "[INFO/ForkPoolWorker-12] child process calling self.run()\n",
      "[INFO/ForkPoolWorker-13] child process calling self.run()\n",
      "[INFO/ForkPoolWorker-14] child process calling self.run()\n",
      "[INFO/ForkPoolWorker-15] child process calling self.run()\n",
      "[INFO/ForkPoolWorker-16] child process calling self.run()\n",
      "[INFO/ForkPoolWorker-17] child process calling self.run()\n",
      "[INFO/ForkPoolWorker-18] child process calling self.run()\n",
      "[INFO/ForkPoolWorker-19] child process calling self.run()\n",
      "[INFO/ForkPoolWorker-20] child process calling self.run()\n",
      "[INFO/ForkPoolWorker-21] child process calling self.run()\n"
     ]
    },
    {
     "name": "stdout",
     "output_type": "stream",
     "text": [
      "I am Process 0"
     ]
    },
    {
     "name": "stderr",
     "output_type": "stream",
     "text": [
      "[INFO/Process-2] process shutting down\n"
     ]
    },
    {
     "name": "stdout",
     "output_type": "stream",
     "text": [
      "\n"
     ]
    },
    {
     "name": "stderr",
     "output_type": "stream",
     "text": [
      "[INFO/Process-2] process exiting with exitcode 0\n"
     ]
    },
    {
     "name": "stdout",
     "output_type": "stream",
     "text": [
      "I am Process 1"
     ]
    },
    {
     "name": "stderr",
     "output_type": "stream",
     "text": [
      "[INFO/Process-3] process shutting down\n"
     ]
    },
    {
     "name": "stdout",
     "output_type": "stream",
     "text": [
      "\n"
     ]
    },
    {
     "name": "stderr",
     "output_type": "stream",
     "text": [
      "[INFO/Process-3] process exiting with exitcode 0\n",
      "[INFO/Process-5] process shutting down\n"
     ]
    },
    {
     "name": "stdout",
     "output_type": "stream",
     "text": [
      "I am Process 3"
     ]
    },
    {
     "name": "stderr",
     "output_type": "stream",
     "text": [
      "[INFO/Process-4] process shutting down\n"
     ]
    },
    {
     "name": "stdout",
     "output_type": "stream",
     "text": [
      "I am Process 2\n",
      "\n"
     ]
    },
    {
     "name": "stderr",
     "output_type": "stream",
     "text": [
      "[INFO/Process-5] process exiting with exitcode 0\n",
      "[INFO/Process-4] process exiting with exitcode 0\n"
     ]
    },
    {
     "name": "stdout",
     "output_type": "stream",
     "text": [
      "I am Process 4"
     ]
    },
    {
     "name": "stderr",
     "output_type": "stream",
     "text": [
      "[INFO/Process-6] process shutting down\n"
     ]
    },
    {
     "name": "stdout",
     "output_type": "stream",
     "text": [
      "I am Process 5"
     ]
    },
    {
     "name": "stderr",
     "output_type": "stream",
     "text": [
      "[INFO/Process-7] process shutting down\n"
     ]
    },
    {
     "name": "stdout",
     "output_type": "stream",
     "text": [
      "\n",
      "\n"
     ]
    },
    {
     "name": "stderr",
     "output_type": "stream",
     "text": [
      "[INFO/Process-6] process exiting with exitcode 0\n",
      "[INFO/Process-7] process exiting with exitcode 0\n",
      "[INFO/Process-8] process shutting down\n"
     ]
    },
    {
     "name": "stdout",
     "output_type": "stream",
     "text": [
      "I am Process 6\n"
     ]
    },
    {
     "name": "stderr",
     "output_type": "stream",
     "text": [
      "[INFO/Process-8] process exiting with exitcode 0\n",
      "[INFO/Process-9] process shutting down\n"
     ]
    },
    {
     "name": "stdout",
     "output_type": "stream",
     "text": [
      "I am Process 7\n"
     ]
    },
    {
     "name": "stderr",
     "output_type": "stream",
     "text": [
      "[INFO/Process-9] process exiting with exitcode 0\n"
     ]
    },
    {
     "name": "stdout",
     "output_type": "stream",
     "text": [
      "I am Process 8"
     ]
    },
    {
     "name": "stderr",
     "output_type": "stream",
     "text": [
      "[INFO/Process-10] process shutting down\n"
     ]
    },
    {
     "name": "stdout",
     "output_type": "stream",
     "text": [
      "\n"
     ]
    },
    {
     "name": "stderr",
     "output_type": "stream",
     "text": [
      "[INFO/Process-10] process exiting with exitcode 0\n"
     ]
    },
    {
     "name": "stdout",
     "output_type": "stream",
     "text": [
      "I am Process 9"
     ]
    },
    {
     "name": "stderr",
     "output_type": "stream",
     "text": [
      "[INFO/Process-11] process shutting down\n"
     ]
    },
    {
     "name": "stdout",
     "output_type": "stream",
     "text": [
      "\n"
     ]
    },
    {
     "name": "stderr",
     "output_type": "stream",
     "text": [
      "[INFO/Process-11] process exiting with exitcode 0\n"
     ]
    },
    {
     "data": {
      "text/plain": [
       "['I am Process 3',\n",
       " 'I am Process 0',\n",
       " 'I am Process 1',\n",
       " 'I am Process 4',\n",
       " 'I am Process 2',\n",
       " 'I am Process 5',\n",
       " 'I am Process 6',\n",
       " 'I am Process 7',\n",
       " 'I am Process 8',\n",
       " 'I am Process 9']"
      ]
     },
     "execution_count": 48,
     "metadata": {},
     "output_type": "execute_result"
    }
   ],
   "source": [
    "from multiprocessing import Process, Queue, Pool, Manager\n",
    "import time\n",
    "def writer(i,q):\n",
    "    message = f'I am Process {i}'\n",
    "    print(i)\n",
    "    time.sleep(2)\n",
    "    q.put(message)\n",
    "def reader(i,q):\n",
    "  message = q.get()\n",
    "  print(message)\n",
    "  return message\n",
    "# Create manager\n",
    "m = Manager()\n",
    "# Create multiprocessing queue\n",
    "q = m.Queue()\n",
    "# Create a group of parallel writers and start them\n",
    "for i in range(10):\n",
    "  Process(target=writer, args=(i,q,)).start()\n",
    "# Create multiprocessing pool\n",
    "p = Pool(10)\n",
    "# Create a group of parallel readers and start them\n",
    "# Number of readers is matching the number of writers\n",
    "# However, the number of simultaneously running\n",
    "# readers is constrained to the pool size\n",
    "readers = []\n",
    "for i in range(10):\n",
    "  readers.append(p.apply_async(reader, (i,q,)))\n",
    "# Wait for the asynchrounous reader threads to finish\n",
    "[r.get() for r in readers]"
   ]
  },
  {
   "cell_type": "code",
   "execution_count": 19,
   "id": "bd039ff8-13d8-4b42-ae69-144b4e1742b1",
   "metadata": {},
   "outputs": [
    {
     "name": "stdout",
     "output_type": "stream",
     "text": [
      "  79076 12345\n",
      "\n"
     ]
    }
   ],
   "source": [
    "with open(\"/home/beeno/Dropbox/research_project/pycharm/incremental_vault_gpu/data/rockyou-withcount.txt\", \\\n",
    "         encoding=\"latin-1\") as f:\n",
    "    lines = f.readlines()\n",
    "print(lines[1])"
   ]
  },
  {
   "cell_type": "code",
   "execution_count": null,
   "id": "4e9717ba-0391-42b2-8d8e-bc6373d4b26a",
   "metadata": {},
   "outputs": [],
   "source": [
    "with open(\"/home/beeno/Dropbox/research_project/pycharm/incremental_vault_gpu/data/rockyou-withcount.txt\", \\\n",
    "         encoding=\"latin-1\") as f:\n",
    "    lines = f.readlines()\n",
    "for line in lines:\n",
    "    L = line.lstrip().strip('\\r\\n').split(' ')\n",
    "    cnt, word = int(L[0]), L[1]\n",
    "    # if len(word) != self.length:\n",
    "    if len(word) < MIN_PW_LENGTH:\n",
    "        continue\n",
    "    if len(word) in TRAIN_LENGTH:\n",
    "        markov_id = TRAIN_LENGTH.index(len(word))\n",
    "    else:\n",
    "        markov_id = len(TRAIN_LENGTH)\n",
    "with open(ROCKY_PATH_TRAIN, 'w') as f:\n",
    "    f.writelines(lines[:len(lines) // 2])\n",
    "with open(ROCKY_PATH_TEST, 'w') as f:\n",
    "    f.writelines(lines[len(lines) // 2:])\n",
    "self.training_file_lines = len(lines) // 2\n",
    "self.training_file = ROCKY_PATH_TRAIN"
   ]
  },
  {
   "cell_type": "code",
   "execution_count": 11,
   "id": "db159e2a-bd7b-4c47-adbe-c51e9e29ad72",
   "metadata": {},
   "outputs": [
    {
     "data": {
      "text/plain": [
       "[3, 3, 3, 3]"
      ]
     },
     "execution_count": 11,
     "metadata": {},
     "output_type": "execute_result"
    }
   ],
   "source": [
    "[3]*4"
   ]
  },
  {
   "cell_type": "code",
   "execution_count": 18,
   "id": "cf459470-0794-4945-b978-a58e6e0ce542",
   "metadata": {},
   "outputs": [
    {
     "data": {
      "text/plain": [
       "False"
      ]
     },
     "execution_count": 18,
     "metadata": {},
     "output_type": "execute_result"
    }
   ],
   "source": [
    "a = {1:4, 2:5}\n",
    "0 in a.keys()"
   ]
  },
  {
   "cell_type": "code",
   "execution_count": 16,
   "id": "3a954b63-fcad-4fc6-bf7b-40dad7c07bd3",
   "metadata": {},
   "outputs": [
    {
     "data": {
      "text/plain": [
       "dict_keys([1, 2])"
      ]
     },
     "execution_count": 16,
     "metadata": {},
     "output_type": "execute_result"
    }
   ],
   "source": [
    "a.keys()"
   ]
  },
  {
   "cell_type": "code",
   "execution_count": 11,
   "id": "e545255e-4252-455a-ad88-13c20d0948f8",
   "metadata": {},
   "outputs": [],
   "source": [
    "import numpy as np\n",
    "import pickle"
   ]
  },
  {
   "cell_type": "code",
   "execution_count": 7,
   "id": "dd46deb9-9dc1-44f6-8076-18ba9f08d64c",
   "metadata": {},
   "outputs": [
    {
     "data": {
      "text/plain": [
       "(1, 6)"
      ]
     },
     "execution_count": 7,
     "metadata": {},
     "output_type": "execute_result"
    }
   ],
   "source": [
    "a = [1,2,3,4,5,6]\n",
    "np.array(a)[None].shape"
   ]
  },
  {
   "cell_type": "code",
   "execution_count": 12,
   "id": "6cd7e7f4-9810-454f-98f2-9f485a21dec7",
   "metadata": {},
   "outputs": [
    {
     "name": "stdout",
     "output_type": "stream",
     "text": [
      "[156 192 192 172 170 177 173 192 196 175 184 187 176 161 180 169 193 186\n",
      " 178 174 201 192 178 194 198 192 192 163 171 188 209 185 190 182 178 194\n",
      " 191 188 204 199 190 191 175 189 183 182 184 157 179 179 185 167 189 198\n",
      " 194 195 175 185 168 192 198 174 208 185 170 172 188 186 177 185 194 188\n",
      " 193 188 183 190 196 183 203 176 178 199 177 175 177 204 184 173 191 187\n",
      " 180 181 179 188 180 176 183 184 202 162]\n"
     ]
    }
   ],
   "source": [
    "with open('attack/ana.data2', 'rb') as f:\n",
    "    data = pickle.load(f)\n",
    "print(data[1])"
   ]
  },
  {
   "cell_type": "code",
   "execution_count": 15,
   "id": "89b29aaf-a644-4782-ab28-79cfada133bc",
   "metadata": {},
   "outputs": [
    {
     "data": {
      "text/plain": [
       "166.66666666666666"
      ]
     },
     "execution_count": 15,
     "metadata": {},
     "output_type": "execute_result"
    }
   ],
   "source": [
    "norm = 10 ** 4 / 60\n",
    "norm"
   ]
  },
  {
   "cell_type": "code",
   "execution_count": 16,
   "id": "5f59dcd3-db08-4a6e-9836-42915228ac44",
   "metadata": {},
   "outputs": [
    {
     "data": {
      "image/png": "[encoded data removed]",
      "text/plain": [
       "<Figure size 640x480 with 1 Axes>"
      ]
     },
     "metadata": {},
     "output_type": "display_data"
    }
   ],
   "source": [
    "import matplotlib.pyplot as plt\n",
    "import matplotlib.colors\n",
    "import numpy as np; np.random.seed(1)\n",
    "import pandas as pd\n",
    "plt.rcParams[\"figure.subplot.right\"] = 0.8\n",
    "v = np.random.rand(30,4)\n",
    "v[:,2] = np.random.choice(np.arange(1980,2015,5), size=30)\n",
    "v[:,3] = np.random.randint(5,13,size=30)\n",
    "\n",
    "df= pd.DataFrame(v, columns=[\"x\",\"y\",\"year\",\"quality\"])\n",
    "df.year = df.year.values.astype(int)\n",
    "fig, ax = plt.subplots()\n",
    "for i, (name, dff) in enumerate(df.groupby(\"year\")):\n",
    "    c = matplotlib.colors.to_hex(plt.cm.jet(i/7.))\n",
    "    dff.plot(kind='scatter',x='x',y='y', label=name, c=c, \n",
    "             s=dff.quality**2, ax=ax)\n",
    "\n",
    "leg = plt.legend(loc=(1.03,0), title=\"Year\")\n",
    "ax.add_artist(leg)\n",
    "h = [plt.plot([],[], color=\"gray\", marker=\"o\", ms=i, ls=\"\")[0] for i in range(5,13)]\n",
    "plt.legend(handles=h, labels=range(5,13),loc=(1.03,0.5), title=\"Quality\")\n",
    "plt.show()"
   ]
  },
  {
   "cell_type": "code",
   "execution_count": 17,
   "id": "211600f3-892e-4d41-a7f1-11dfa4ed378e",
   "metadata": {},
   "outputs": [
    {
     "ename": "SyntaxError",
     "evalue": "invalid syntax (3767017419.py, line 2)",
     "output_type": "error",
     "traceback": [
      "\u001b[0;36m  Cell \u001b[0;32mIn [17], line 2\u001b[0;36m\u001b[0m\n\u001b[0;31m    plt.plot!(rand(10), color=2, label = \"optimized\")\u001b[0m\n\u001b[0m            ^\u001b[0m\n\u001b[0;31mSyntaxError\u001b[0m\u001b[0;31m:\u001b[0m invalid syntax\n"
     ]
    }
   ],
   "source": [
    "plt.plot(rand(10), color=1, label = \"random\")\n",
    "plt.plot!(rand(10), color=2, label = \"optimized\")\n",
    "plt.plot!(rand(10), color=1, linestyle=:dot, label = \"\")\n",
    "plt.plot!(rand(10), color=2, linestyle=:dot, label = \"\")\n",
    "plt.plot!([1], [0], label = \"validation\", color = \"black\")\n",
    "plt.plot!([1], [0], linestyle = :dot, label = \"cost\", color = \"black\")"
   ]
  },
  {
   "cell_type": "code",
   "execution_count": null,
   "id": "38c3fcc9-3aa6-4089-8598-69b0d8eab249",
   "metadata": {},
   "outputs": [],
   "source": [
    "import itertools\n",
    "from matplotlib import pyplot\n",
    "\n",
    "colors = ['b', 'r', 'g', 'c']\n",
    "cc = itertools.cycle(colors)\n",
    "plot_lines = []\n",
    "for p in parameters:\n",
    "\n",
    "    d1 = algo1(p)\n",
    "    d2 = algo2(p)\n",
    "    d3 = algo3(p)\n",
    "\n",
    "    pyplot.hold(True)\n",
    "    c = next(cc)\n",
    "    l1, = pyplot.plot(d1, '-', color=c)\n",
    "    l2, = pyplot.plot(d2, '--', color=c)\n",
    "    l3, = pyplot.plot(d3, '.-', color=c)\n",
    "\n",
    "    plot_lines.append([l1, l2, l3])\n",
    "\n",
    "legend1 = pyplot.legend(plot_lines[0], [\"algo1\", \"algo2\", \"algo3\"], loc=1)\n",
    "pyplot.legend([l[0] for l in plot_lines], parameters, loc=4)\n",
    "pyplot.gca().add_artist(legend1)"
   ]
  }
 ],
 "metadata": {
  "kernelspec": {
   "display_name": "Python 3 (ipykernel)",
   "language": "python",
   "name": "python3"
  },
  "language_info": {
   "codemirror_mode": {
    "name": "ipython",
    "version": 3
   },
   "file_extension": ".py",
   "mimetype": "text/x-python",
   "name": "python",
   "nbconvert_exporter": "python",
   "pygments_lexer": "ipython3",
   "version": "3.8.2"
  }
 },
 "nbformat": 4,
 "nbformat_minor": 5
}
