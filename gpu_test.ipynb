{
 "cells": [
  {
   "cell_type": "code",
   "execution_count": 1,
   "id": "188032f3-827c-432c-9d1f-d805ebaea603",
   "metadata": {},
   "outputs": [
    {
     "name": "stdout",
     "output_type": "stream",
     "text": [
      "/home/beeno/Dropbox/research_project/pycharm/incremental_vault_gpu\n"
     ]
    }
   ],
   "source": [
    "%cd /home/beeno/Dropbox/research_project/pycharm/incremental_vault_gpu\n",
    "import numba\n",
    "from numba import cuda\n",
    "from cuda_voila import convert2seed\n",
    "import pickle                                                           \n",
    "import numpy as np                                                     \n",
    "import numba.cuda"
   ]
  },
  {
   "cell_type": "code",
   "execution_count": 4,
   "id": "eccfecc7-69f2-421e-b9be-d07fe140ff21",
   "metadata": {},
   "outputs": [
    {
     "ename": "NameError",
     "evalue": "name 'np' is not defined",
     "output_type": "error",
     "traceback": [
      "\u001b[0;31m---------------------------------------------------------------------------\u001b[0m",
      "\u001b[0;31mNameError\u001b[0m                                 Traceback (most recent call last)",
      "Cell \u001b[0;32mIn [4], line 4\u001b[0m\n\u001b[1;32m      2\u001b[0m threadsperblock \u001b[38;5;241m=\u001b[39m \u001b[38;5;241m32\u001b[39m\n\u001b[1;32m      3\u001b[0m blockspergrid \u001b[38;5;241m=\u001b[39m (\u001b[38;5;241m100\u001b[39m\u001b[38;5;241m*\u001b[39m\u001b[38;5;241m12\u001b[39m \u001b[38;5;241m+\u001b[39m threadsperblock \u001b[38;5;241m-\u001b[39m \u001b[38;5;241m1\u001b[39m) \u001b[38;5;241m/\u001b[39m\u001b[38;5;241m/\u001b[39m threadsperblock\n\u001b[0;32m----> 4\u001b[0m seed \u001b[38;5;241m=\u001b[39m np\u001b[38;5;241m.\u001b[39mzeros(\u001b[38;5;241m100\u001b[39m\u001b[38;5;241m*\u001b[39m\u001b[38;5;241m12\u001b[39m)\n\u001b[1;32m      5\u001b[0m convert2seed[blockspergrid, threadsperblock](\u001b[38;5;241m0\u001b[39m, \u001b[38;5;241m1\u001b[39m, \u001b[38;5;241m100\u001b[39m\u001b[38;5;241m*\u001b[39m\u001b[38;5;241m12\u001b[39m, seed)\n\u001b[1;32m      6\u001b[0m seed\n",
      "\u001b[0;31mNameError\u001b[0m: name 'np' is not defined"
     ]
    }
   ],
   "source": [
    "pws = []\n",
    "threadsperblock = 32\n",
    "blockspergrid = (100*12 + threadsperblock - 1) // threadsperblock\n",
    "seed = np.zeros(100*12)\n",
    "convert2seed[blockspergrid, threadsperblock](0, 1, 100*12, seed)\n",
    "seed"
   ]
  },
  {
   "cell_type": "code",
   "execution_count": 9,
   "id": "d204445a-e8cc-4c03-b199-55c3d654a003",
   "metadata": {},
   "outputs": [
    {
     "ename": "NameError",
     "evalue": "name 'my_kernel' is not defined",
     "output_type": "error",
     "traceback": [
      "\u001b[0;31m---------------------------------------------------------------------------\u001b[0m",
      "\u001b[0;31mNameError\u001b[0m                                 Traceback (most recent call last)",
      "Cell \u001b[0;32mIn [9], line 12\u001b[0m\n\u001b[1;32m      9\u001b[0m blockspergrid \u001b[38;5;241m=\u001b[39m (data\u001b[38;5;241m.\u001b[39msize \u001b[38;5;241m+\u001b[39m (threadsperblock \u001b[38;5;241m-\u001b[39m \u001b[38;5;241m1\u001b[39m)) \u001b[38;5;241m/\u001b[39m\u001b[38;5;241m/\u001b[39m threadsperblock\n\u001b[1;32m     11\u001b[0m \u001b[38;5;66;03m# Now start the kernel\u001b[39;00m\n\u001b[0;32m---> 12\u001b[0m my_kernel[blockspergrid, threadsperblock](data)\n\u001b[1;32m     14\u001b[0m \u001b[38;5;66;03m# Print the result\u001b[39;00m\n\u001b[1;32m     15\u001b[0m \u001b[38;5;28mprint\u001b[39m(data)\n",
      "\u001b[0;31mNameError\u001b[0m: name 'my_kernel' is not defined"
     ]
    }
   ],
   "source": [
    "import numpy\n",
    "# Create the data array - usually initialized some other way\n",
    "data = numpy.ones(256)\n",
    "\n",
    "# Set the number of threads in a block\n",
    "threadsperblock = 32 \n",
    "\n",
    "# Calculate the number of thread blocks in the grid\n",
    "blockspergrid = (data.size + (threadsperblock - 1)) // threadsperblock\n",
    "\n",
    "# Now start the kernel\n",
    "my_kernel[blockspergrid, threadsperblock](data)\n",
    "\n",
    "# Print the result\n",
    "print(data)"
   ]
  },
  {
   "cell_type": "code",
   "execution_count": 74,
   "id": "18965f97-5d90-47aa-9ba7-cbf7e0f8ce53",
   "metadata": {},
   "outputs": [],
   "source": [
    "import numpy as np\n",
    "from numba import cuda, float32, int32, jit\n",
    "import numba"
   ]
  },
  {
   "cell_type": "code",
   "execution_count": 40,
   "id": "3277ccc0-59f4-4332-ad74-eb592da9ac70",
   "metadata": {},
   "outputs": [
    {
     "data": {
      "text/plain": [
       "b'd2wq'"
      ]
     },
     "execution_count": 75,
     "metadata": {},
     "output_type": "execute_result"
    }
   ],
   "source": [
    "np.array([bytes('d2wq', 'utf-8'), bytes('d2wq', 'utf-8'),bytes('d2wq', 'utf-8')])[0]"
   ]
  },
  {
   "cell_type": "code",
   "execution_count": 86,
   "id": "9b454e91-9796-40e0-85b3-d5d576bf86db",
   "metadata": {},
   "outputs": [],
   "source": [
    "@cuda.jit\n",
    "def lo(a):\n",
    "    '''tmp1 = a[0]\n",
    "    tmp2 = a[1]\n",
    "    a[1] = tmp1\n",
    "    a[0] = tmp2'''\n",
    "    a[0], a[1] = a[1], a[0]"
   ]
  },
  {
   "cell_type": "code",
   "execution_count": 87,
   "id": "909765f0-38c4-4a3f-9525-ead08288de2c",
   "metadata": {},
   "outputs": [
    {
     "name": "stdout",
     "output_type": "stream",
     "text": [
      "1\n",
      "[1 2]\n"
     ]
    },
    {
     "name": "stderr",
     "output_type": "stream",
     "text": [
      "/home/beeno/anaconda3/envs/heexpand/lib/python3.8/site-packages/numba/cuda/dispatcher.py:488: NumbaPerformanceWarning: \u001b[1mGrid size 2 will likely result in GPU under-utilization due to low occupancy.\u001b[0m\n",
      "  warn(NumbaPerformanceWarning(msg))\n",
      "/home/beeno/anaconda3/envs/heexpand/lib/python3.8/site-packages/numba/cuda/cudadrv/devicearray.py:885: NumbaPerformanceWarning: \u001b[1mHost array used in CUDA kernel will incur copy overhead to/from device.\u001b[0m\n",
      "  warn(NumbaPerformanceWarning(msg))\n"
     ]
    },
    {
     "data": {
      "text/plain": [
       "array([2, 1])"
      ]
     },
     "execution_count": 87,
     "metadata": {},
     "output_type": "execute_result"
    }
   ],
   "source": [
    "threadsperblock = 32 \n",
    "\n",
    "# Calculate the number of thread blocks in the grid\n",
    "#blockspergrid = (data.size + (threadsperblock - 1)) // threadsperblock\n",
    "\n",
    "# Now start the kernel\n",
    "a=np.array([bytes('d', 'utf-8'), bytes('v', 'utf-8'),bytes('s', 'utf-8')])\n",
    "b=np.array([1, 2])\n",
    "print(hash(b[0]))\n",
    "print(b)\n",
    "lo[2, 2](b)\n",
    "b"
   ]
  },
  {
   "cell_type": "code",
   "execution_count": 1,
   "id": "2c0a8b1a-1364-45e4-8e11-fe944315b16f",
   "metadata": {},
   "outputs": [
    {
     "name": "stderr",
     "output_type": "stream",
     "text": [
      "/tmp/ipykernel_5506/1350746694.py:2: DeprecationWarning: `np.int` is a deprecated alias for the builtin `int`. To silence this warning, use `int` by itself. Doing this will not modify any behavior and is safe. When replacing `np.int`, you may wish to use e.g. `np.int64` or `np.int32` to specify the precision. If you wish to review your current use, check the release note link for additional information.\n",
      "Deprecated in NumPy 1.20; for more details and guidance: https://numpy.org/devdocs/release/1.20.0-notes.html#deprecations\n",
      "  np.ones(6, dtype=np.int)\n"
     ]
    },
    {
     "data": {
      "text/plain": [
       "array([1, 1, 1, 1, 1, 1])"
      ]
     },
     "execution_count": 1,
     "metadata": {},
     "output_type": "execute_result"
    }
   ],
   "source": [
    "import numpy as np\n",
    "np.ones(6, dtype=np.int)"
   ]
  },
  {
   "cell_type": "code",
   "execution_count": 10,
   "id": "ee1eba64-0a20-42b4-91c4-e1b73bd8e215",
   "metadata": {},
   "outputs": [],
   "source": [
    "import numpy as np\n",
    "from numba import cuda\n",
    "\n",
    "@cuda.jit\n",
    "def my_kernel(str_array, check_str, length, lines, result):\n",
    "\n",
    "    col,line = cuda.grid(2)\n",
    "    pos = (line*(length+1))+col\n",
    "    if col < length and line < lines:  # Check array boundaries\n",
    "        if str_array[pos] != check_str[col]:\n",
    "            result[line] = 0\n",
    "\n",
    "def main():\n",
    "    a = np.fromfile(\"test.txt\", dtype=np.byte)\n",
    "    print(\"the file contains:\")\n",
    "    print(a)\n",
    "    print(\"array length is:\")\n",
    "    print(a.shape[0])\n",
    "    print(\"the check string is:\")\n",
    "    b = a[33:65]\n",
    "    print(b)\n",
    "    i = 0\n",
    "    while a[i] != 10:\n",
    "        i=i+1\n",
    "    line_length = i\n",
    "    print(\"line length is:\")\n",
    "    print(line_length)\n",
    "    print(\"number of lines is:\")\n",
    "    line_count = a.shape[0]/(line_length+1)\n",
    "    print(line_count)\n",
    "    res = np.ones(line_count)\n",
    "    # Set the number of threads in a block\n",
    "    threadsperblock = (32,32)\n",
    "\n",
    "    # Calculate the number of thread blocks in the grid\n",
    "    blocks_x = (line_length/32)+1\n",
    "    blocks_y = (line_count/32)+1\n",
    "    blockspergrid = (blocks_x,blocks_y)\n",
    "    # Now start the kernel\n",
    "    my_kernel[blockspergrid, threadsperblock](a, b, line_length, line_count, res)\n",
    "\n",
    "\n",
    "    # Print the result\n",
    "    print(\"matching lines (match = 1):\")\n",
    "    print(res)"
   ]
  },
  {
   "cell_type": "code",
   "execution_count": 11,
   "id": "cfd3adfe-d28d-422a-ad2c-0def592064a4",
   "metadata": {},
   "outputs": [
    {
     "ename": "FileNotFoundError",
     "evalue": "[Errno 2] No such file or directory: 'test.txt'",
     "output_type": "error",
     "traceback": [
      "\u001b[0;31m---------------------------------------------------------------------------\u001b[0m",
      "\u001b[0;31mFileNotFoundError\u001b[0m                         Traceback (most recent call last)",
      "Cell \u001b[0;32mIn [11], line 1\u001b[0m\n\u001b[0;32m----> 1\u001b[0m main()\n",
      "Cell \u001b[0;32mIn [10], line 14\u001b[0m, in \u001b[0;36mmain\u001b[0;34m()\u001b[0m\n\u001b[1;32m     13\u001b[0m \u001b[38;5;28;01mdef\u001b[39;00m \u001b[38;5;21mmain\u001b[39m():\n\u001b[0;32m---> 14\u001b[0m     a \u001b[38;5;241m=\u001b[39m \u001b[43mnp\u001b[49m\u001b[38;5;241;43m.\u001b[39;49m\u001b[43mfromfile\u001b[49m\u001b[43m(\u001b[49m\u001b[38;5;124;43m\"\u001b[39;49m\u001b[38;5;124;43mtest.txt\u001b[39;49m\u001b[38;5;124;43m\"\u001b[39;49m\u001b[43m,\u001b[49m\u001b[43m \u001b[49m\u001b[43mdtype\u001b[49m\u001b[38;5;241;43m=\u001b[39;49m\u001b[43mnp\u001b[49m\u001b[38;5;241;43m.\u001b[39;49m\u001b[43mbyte\u001b[49m\u001b[43m)\u001b[49m\n\u001b[1;32m     15\u001b[0m     \u001b[38;5;28mprint\u001b[39m(\u001b[38;5;124m\"\u001b[39m\u001b[38;5;124mthe file contains:\u001b[39m\u001b[38;5;124m\"\u001b[39m)\n\u001b[1;32m     16\u001b[0m     \u001b[38;5;28mprint\u001b[39m(a)\n",
      "\u001b[0;31mFileNotFoundError\u001b[0m: [Errno 2] No such file or directory: 'test.txt'"
     ]
    }
   ],
   "source": [
    "main()"
   ]
  },
  {
   "cell_type": "code",
   "execution_count": 13,
   "id": "d28d5cff-4bc4-480f-a727-f21b2b8d46c6",
   "metadata": {},
   "outputs": [
    {
     "name": "stderr",
     "output_type": "stream",
     "text": [
      "/home/beeno/anaconda3/envs/heexpand/lib/python3.8/site-packages/numba/cuda/cudadrv/devicearray.py:885: NumbaPerformanceWarning: \u001b[1mHost array used in CUDA kernel will incur copy overhead to/from device.\u001b[0m\n",
      "  warn(NumbaPerformanceWarning(msg))\n"
     ]
    }
   ],
   "source": [
    "a = ['eaw', 'daw']\n",
    "lo[2,2](np.array(a))"
   ]
  },
  {
   "cell_type": "code",
   "execution_count": 17,
   "id": "799c4ab5-6073-4e78-bae6-701739b11bce",
   "metadata": {},
   "outputs": [
    {
     "data": {
      "text/plain": [
       "'ea'"
      ]
     },
     "execution_count": 17,
     "metadata": {},
     "output_type": "execute_result"
    }
   ],
   "source": [
    "np.array(a)[0][:2]"
   ]
  },
  {
   "cell_type": "code",
   "execution_count": null,
   "id": "b35ad0aa-4f87-4566-8119-9830a699aa38",
   "metadata": {},
   "outputs": [],
   "source": []
  }
 ],
 "metadata": {
  "kernelspec": {
   "display_name": "Python 3 (ipykernel)",
   "language": "python",
   "name": "python3"
  },
  "language_info": {
   "codemirror_mode": {
    "name": "ipython",
    "version": 3
   },
   "file_extension": ".py",
   "mimetype": "text/x-python",
   "name": "python",
   "nbconvert_exporter": "python",
   "pygments_lexer": "ipython3",
   "version": "3.8.2"
  }
 },
 "nbformat": 4,
 "nbformat_minor": 5
}
